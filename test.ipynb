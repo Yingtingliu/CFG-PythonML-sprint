{
 "cells": [
  {
   "cell_type": "code",
   "execution_count": 25,
   "id": "66ba1b41",
   "metadata": {},
   "outputs": [
    {
     "ename": "SyntaxError",
     "evalue": "invalid syntax (41089058.py, line 8)",
     "output_type": "error",
     "traceback": [
      "\u001b[1;36m  File \u001b[1;32m\"C:\\Users\\Alisha\\AppData\\Local\\Temp\\ipykernel_3828\\41089058.py\"\u001b[1;36m, line \u001b[1;32m8\u001b[0m\n\u001b[1;33m    float a\u001b[0m\n\u001b[1;37m          ^\u001b[0m\n\u001b[1;31mSyntaxError\u001b[0m\u001b[1;31m:\u001b[0m invalid syntax\n"
     ]
    }
   ],
   "source": [
    "import random\n",
    "class RandomGen(object):\n",
    "    # Values that may be returned by next_num()\n",
    "    _random_nums = []\n",
    "    # Probability of the occurence of random_nums\n",
    "    _probabilities = [0.1,0.2,0.3,0.4]\n",
    "    length = len(_probabilities)\n",
    "    float a\n",
    "    for i in range(1, length):\n",
    "        a += _probabilities[i]\n",
    "        print(i)\n",
    "#     for x in _probabilities:\n",
    "#         print(x)\n",
    "        if element == 1 : \n",
    "            break\n",
    "\n",
    "    \"\"\"\n",
    "    Returns one of the randomNums. When this method is called \n",
    "    multiple times over a long period, it should return the \n",
    "    numbers roughly with the initialized probabilities.\n",
    "    \"\"\"\n",
    "\n",
    "\n",
    "# pass"
   ]
  },
  {
   "cell_type": "code",
   "execution_count": 1,
   "id": "5d3378b2",
   "metadata": {},
   "outputs": [
    {
     "ename": "NameError",
     "evalue": "name 'name' is not defined",
     "output_type": "error",
     "traceback": [
      "\u001b[1;31m---------------------------------------------------------------------------\u001b[0m",
      "\u001b[1;31mNameError\u001b[0m                                 Traceback (most recent call last)",
      "\u001b[1;32m~\\AppData\\Local\\Temp\\ipykernel_16332\\1284808128.py\u001b[0m in \u001b[0;36m<module>\u001b[1;34m\u001b[0m\n\u001b[1;32m----> 1\u001b[1;33m \u001b[0mname\u001b[0m \u001b[1;33m=\u001b[0m \u001b[1;34m'Joanna'\u001b[0m\u001b[1;34mf'My friend {name} is coming for dinner tonight.'\u001b[0m\u001b[1;33m\u001b[0m\u001b[1;33m\u001b[0m\u001b[0m\n\u001b[0m",
      "\u001b[1;31mNameError\u001b[0m: name 'name' is not defined"
     ]
    }
   ],
   "source": [
    "name = 'Joanna'f'My friend {name} is coming for dinner tonight.'"
   ]
  },
  {
   "cell_type": "code",
   "execution_count": 2,
   "id": "b4ad5445",
   "metadata": {},
   "outputs": [
    {
     "ename": "SyntaxError",
     "evalue": "invalid syntax (2853871900.py, line 1)",
     "output_type": "error",
     "traceback": [
      "\u001b[1;36m  File \u001b[1;32m\"C:\\Users\\Alisha\\AppData\\Local\\Temp\\ipykernel_16332\\2853871900.py\"\u001b[1;36m, line \u001b[1;32m1\u001b[0m\n\u001b[1;33m    var name\u001b[0m\n\u001b[1;37m        ^\u001b[0m\n\u001b[1;31mSyntaxError\u001b[0m\u001b[1;31m:\u001b[0m invalid syntax\n"
     ]
    }
   ],
   "source": [
    "var name"
   ]
  },
  {
   "cell_type": "code",
   "execution_count": 3,
   "id": "553dfa4a",
   "metadata": {},
   "outputs": [
    {
     "data": {
      "text/plain": [
       "2"
      ]
     },
     "execution_count": 3,
     "metadata": {},
     "output_type": "execute_result"
    }
   ],
   "source": [
    "1+1"
   ]
  },
  {
   "cell_type": "code",
   "execution_count": 4,
   "id": "d6eac97a",
   "metadata": {},
   "outputs": [
    {
     "ename": "NameError",
     "evalue": "name 'name' is not defined",
     "output_type": "error",
     "traceback": [
      "\u001b[1;31m---------------------------------------------------------------------------\u001b[0m",
      "\u001b[1;31mNameError\u001b[0m                                 Traceback (most recent call last)",
      "\u001b[1;32m~\\AppData\\Local\\Temp\\ipykernel_16332\\2478547952.py\u001b[0m in \u001b[0;36m<module>\u001b[1;34m\u001b[0m\n\u001b[1;32m----> 1\u001b[1;33m \u001b[0mname\u001b[0m \u001b[1;33m=\u001b[0m \u001b[1;34m' Joanna '\u001b[0m\u001b[1;34m'My friend'\u001b[0m \u001b[1;33m+\u001b[0m \u001b[0mname\u001b[0m \u001b[1;33m+\u001b[0m \u001b[1;34m'is coming for dinner tonight.'\u001b[0m\u001b[1;33m\u001b[0m\u001b[1;33m\u001b[0m\u001b[0m\n\u001b[0m",
      "\u001b[1;31mNameError\u001b[0m: name 'name' is not defined"
     ]
    }
   ],
   "source": [
    "name = ' Joanna ''My friend' + name + 'is coming for dinner tonight.'"
   ]
  },
  {
   "cell_type": "code",
   "execution_count": 5,
   "id": "d9e5402f",
   "metadata": {},
   "outputs": [
    {
     "ename": "SyntaxError",
     "evalue": "invalid syntax (1390346318.py, line 1)",
     "output_type": "error",
     "traceback": [
      "\u001b[1;36m  File \u001b[1;32m\"C:\\Users\\Alisha\\AppData\\Local\\Temp\\ipykernel_16332\\1390346318.py\"\u001b[1;36m, line \u001b[1;32m1\u001b[0m\n\u001b[1;33m    str name\u001b[0m\n\u001b[1;37m        ^\u001b[0m\n\u001b[1;31mSyntaxError\u001b[0m\u001b[1;31m:\u001b[0m invalid syntax\n"
     ]
    }
   ],
   "source": [
    "str name"
   ]
  },
  {
   "cell_type": "code",
   "execution_count": 6,
   "id": "dc71dd77",
   "metadata": {},
   "outputs": [
    {
     "ename": "SyntaxError",
     "evalue": "invalid syntax (384224160.py, line 1)",
     "output_type": "error",
     "traceback": [
      "\u001b[1;36m  File \u001b[1;32m\"C:\\Users\\Alisha\\AppData\\Local\\Temp\\ipykernel_16332\\384224160.py\"\u001b[1;36m, line \u001b[1;32m1\u001b[0m\n\u001b[1;33m    str a = 'happy'\u001b[0m\n\u001b[1;37m        ^\u001b[0m\n\u001b[1;31mSyntaxError\u001b[0m\u001b[1;31m:\u001b[0m invalid syntax\n"
     ]
    }
   ],
   "source": [
    "str a = 'happy'"
   ]
  },
  {
   "cell_type": "code",
   "execution_count": 7,
   "id": "bd172ef9",
   "metadata": {},
   "outputs": [],
   "source": [
    "a = 'happy'"
   ]
  },
  {
   "cell_type": "code",
   "execution_count": 8,
   "id": "ea4315e6",
   "metadata": {},
   "outputs": [
    {
     "ename": "SyntaxError",
     "evalue": "Missing parentheses in call to 'print'. Did you mean print(a)? (2947294964.py, line 1)",
     "output_type": "error",
     "traceback": [
      "\u001b[1;36m  File \u001b[1;32m\"C:\\Users\\Alisha\\AppData\\Local\\Temp\\ipykernel_16332\\2947294964.py\"\u001b[1;36m, line \u001b[1;32m1\u001b[0m\n\u001b[1;33m    print a\u001b[0m\n\u001b[1;37m          ^\u001b[0m\n\u001b[1;31mSyntaxError\u001b[0m\u001b[1;31m:\u001b[0m Missing parentheses in call to 'print'. Did you mean print(a)?\n"
     ]
    }
   ],
   "source": [
    "print a"
   ]
  },
  {
   "cell_type": "code",
   "execution_count": 9,
   "id": "eee4cd1e",
   "metadata": {},
   "outputs": [
    {
     "name": "stdout",
     "output_type": "stream",
     "text": [
      "happy\n"
     ]
    }
   ],
   "source": [
    "print(a)"
   ]
  },
  {
   "cell_type": "code",
   "execution_count": 10,
   "id": "e6c8bcbd",
   "metadata": {},
   "outputs": [
    {
     "ename": "NameError",
     "evalue": "name 'name' is not defined",
     "output_type": "error",
     "traceback": [
      "\u001b[1;31m---------------------------------------------------------------------------\u001b[0m",
      "\u001b[1;31mNameError\u001b[0m                                 Traceback (most recent call last)",
      "\u001b[1;32m~\\AppData\\Local\\Temp\\ipykernel_16332\\1284808128.py\u001b[0m in \u001b[0;36m<module>\u001b[1;34m\u001b[0m\n\u001b[1;32m----> 1\u001b[1;33m \u001b[0mname\u001b[0m \u001b[1;33m=\u001b[0m \u001b[1;34m'Joanna'\u001b[0m\u001b[1;34mf'My friend {name} is coming for dinner tonight.'\u001b[0m\u001b[1;33m\u001b[0m\u001b[1;33m\u001b[0m\u001b[0m\n\u001b[0m",
      "\u001b[1;31mNameError\u001b[0m: name 'name' is not defined"
     ]
    }
   ],
   "source": [
    "name = 'Joanna'f'My friend {name} is coming for dinner tonight.'"
   ]
  },
  {
   "cell_type": "code",
   "execution_count": 16,
   "id": "aba9e45c",
   "metadata": {},
   "outputs": [],
   "source": [
    "numbers = [num for num in range(5) if 0 < num < 4 ]\n",
    "\n",
    "count = 0\n",
    "result = 20\n",
    "\n"
   ]
  },
  {
   "cell_type": "code",
   "execution_count": 18,
   "id": "716101a1",
   "metadata": {},
   "outputs": [
    {
     "name": "stdout",
     "output_type": "stream",
     "text": [
      "14\n"
     ]
    }
   ],
   "source": [
    "while count < len(numbers):\n",
    "    result = result - numbers[count]\n",
    "    count += 1\n",
    "\n",
    "print(result)"
   ]
  },
  {
   "cell_type": "code",
   "execution_count": 14,
   "id": "db4e8c76",
   "metadata": {},
   "outputs": [
    {
     "name": "stdout",
     "output_type": "stream",
     "text": [
      "[1, 2, 3]\n"
     ]
    }
   ],
   "source": [
    "print(numbers)"
   ]
  },
  {
   "cell_type": "code",
   "execution_count": 22,
   "id": "ce10cbb0",
   "metadata": {},
   "outputs": [
    {
     "name": "stdout",
     "output_type": "stream",
     "text": [
      "None\n"
     ]
    }
   ],
   "source": [
    "def process_word(word):\n",
    "    output = list(word)\n",
    "    output.reverse()\n",
    "    new_word = \"\".join(output)\n",
    "    \n",
    "result = process_word('monkey')\n",
    "\n",
    "print(result)\n"
   ]
  },
  {
   "cell_type": "code",
   "execution_count": 29,
   "id": "86e69dc4",
   "metadata": {},
   "outputs": [],
   "source": [
    "def calc_factorial(n):\n",
    "        fact = 1\n",
    "        for num in range(2, n + 1):\n",
    "            fact *= num\n",
    "            return fact\n",
    "\n",
    "\n",
    "def my_function(numbers):\n",
    "    my_container = []\n",
    "    for num in numbers:\n",
    "        my_container.append(\n",
    "        calc_factorial(num)\n",
    "        )\n",
    "    return my_container[::-1]\n",
    "\n",
    "\n",
    "    \n"
   ]
  },
  {
   "cell_type": "code",
   "execution_count": 30,
   "id": "9705c9ca",
   "metadata": {},
   "outputs": [
    {
     "name": "stdout",
     "output_type": "stream",
     "text": [
      "[2, 2, None]\n"
     ]
    }
   ],
   "source": []
  },
  {
   "cell_type": "code",
   "execution_count": 31,
   "id": "999f5b7a",
   "metadata": {},
   "outputs": [],
   "source": [
    "result = my_function((1,2,3))"
   ]
  },
  {
   "cell_type": "code",
   "execution_count": 32,
   "id": "6c4c9085",
   "metadata": {},
   "outputs": [
    {
     "name": "stdout",
     "output_type": "stream",
     "text": [
      "[2, 2, None]\n"
     ]
    }
   ],
   "source": [
    "print(result)"
   ]
  },
  {
   "cell_type": "code",
   "execution_count": 33,
   "id": "b85da14c",
   "metadata": {},
   "outputs": [
    {
     "data": {
      "text/plain": [
       "False"
      ]
     },
     "execution_count": 33,
     "metadata": {},
     "output_type": "execute_result"
    }
   ],
   "source": [
    "True and False"
   ]
  },
  {
   "cell_type": "code",
   "execution_count": 36,
   "id": "0494b6bd",
   "metadata": {},
   "outputs": [
    {
     "name": "stdout",
     "output_type": "stream",
     "text": [
      "That is a small dog\n"
     ]
    }
   ],
   "source": [
    "if dog_size > 75:\n",
    "    print('That is a big dog')\n",
    "\n",
    "elif dog_size < 10:\n",
    "    print('That dog could fit in my pocket')\n",
    "\n",
    "elif dog_size < 25:\n",
    "    print('That is a small dog')\n",
    "\n",
    "else:\n",
    "    print('That is an average dog')"
   ]
  },
  {
   "cell_type": "code",
   "execution_count": 35,
   "id": "7abfe6c9",
   "metadata": {},
   "outputs": [],
   "source": [
    "dog_size =10"
   ]
  },
  {
   "cell_type": "code",
   "execution_count": 38,
   "id": "527abd71",
   "metadata": {},
   "outputs": [],
   "source": [
    "my_dict = {\n",
    "'dog' : 'billy',\n",
    "'cat' : 'pepe'\n",
    "}\n",
    "\n",
    "result = [v.capitalize() for k,v in my_dict.items()]"
   ]
  },
  {
   "cell_type": "code",
   "execution_count": 39,
   "id": "5694f232",
   "metadata": {},
   "outputs": [
    {
     "name": "stdout",
     "output_type": "stream",
     "text": [
      "['Billy', 'Pepe']\n"
     ]
    }
   ],
   "source": [
    "print(result)"
   ]
  },
  {
   "cell_type": "code",
   "execution_count": 41,
   "id": "8fca989b",
   "metadata": {},
   "outputs": [
    {
     "name": "stdout",
     "output_type": "stream",
     "text": [
      "{'apple', 'banana'}\n"
     ]
    }
   ],
   "source": [
    "my_fruit = {\"apple\", \"banana\", \"orange\"}\n",
    "\n",
    "my_fruit.pop()\n",
    "\n",
    "print(my_fruit)"
   ]
  },
  {
   "cell_type": "code",
   "execution_count": 42,
   "id": "e97a031d",
   "metadata": {},
   "outputs": [
    {
     "ename": "TypeError",
     "evalue": "'tuple' object does not support item assignment",
     "output_type": "error",
     "traceback": [
      "\u001b[1;31m---------------------------------------------------------------------------\u001b[0m",
      "\u001b[1;31mTypeError\u001b[0m                                 Traceback (most recent call last)",
      "\u001b[1;32m~\\AppData\\Local\\Temp\\ipykernel_16332\\4076349228.py\u001b[0m in \u001b[0;36m<module>\u001b[1;34m\u001b[0m\n\u001b[0;32m      1\u001b[0m \u001b[0mmenu\u001b[0m \u001b[1;33m=\u001b[0m \u001b[1;33m(\u001b[0m\u001b[1;34m'croissant'\u001b[0m\u001b[1;33m,\u001b[0m \u001b[1;34m'coffee'\u001b[0m\u001b[1;33m,\u001b[0m \u001b[1;34m'juice'\u001b[0m\u001b[1;33m)\u001b[0m\u001b[1;33m\u001b[0m\u001b[1;33m\u001b[0m\u001b[0m\n\u001b[0;32m      2\u001b[0m \u001b[1;33m\u001b[0m\u001b[0m\n\u001b[1;32m----> 3\u001b[1;33m \u001b[0mmenu\u001b[0m\u001b[1;33m[\u001b[0m\u001b[1;36m1\u001b[0m\u001b[1;33m]\u001b[0m \u001b[1;33m=\u001b[0m \u001b[1;33m[\u001b[0m\u001b[1;34m'tea'\u001b[0m\u001b[1;33m,\u001b[0m \u001b[1;34m'juice'\u001b[0m\u001b[1;33m]\u001b[0m\u001b[1;33m\u001b[0m\u001b[1;33m\u001b[0m\u001b[0m\n\u001b[0m",
      "\u001b[1;31mTypeError\u001b[0m: 'tuple' object does not support item assignment"
     ]
    }
   ],
   "source": [
    "menu = ('croissant', 'coffee', 'juice')\n",
    "\n",
    "menu[1] = ['tea', 'juice']"
   ]
  },
  {
   "cell_type": "code",
   "execution_count": 44,
   "id": "1306befb",
   "metadata": {},
   "outputs": [
    {
     "name": "stdout",
     "output_type": "stream",
     "text": [
      "<class 'list'>\n"
     ]
    }
   ],
   "source": [
    "my_dict = {\n",
    "'Anita': [\n",
    "{'Biology': 'A', 'Chemistry': 'A*', 'Physics': 'B'},\n",
    "{'English': 'B', 'Literature': 'B', 'French': 'C'},\n",
    "{'PE': 'A', 'Music': 'A', 'Food Tech': 'B'}\n",
    "]\n",
    "}\n",
    "\n",
    "for i in my_dict.keys():\n",
    "    result = type(my_dict[i])\n",
    "\n",
    "print(result)"
   ]
  },
  {
   "cell_type": "code",
   "execution_count": 45,
   "id": "a23d5054",
   "metadata": {},
   "outputs": [
    {
     "name": "stdout",
     "output_type": "stream",
     "text": [
      "{'A'}\n"
     ]
    }
   ],
   "source": [
    "my_dict = {\n",
    "'Anita': [\n",
    "{'Biology': 'A', 'Chemistry': 'A*', 'Physics': 'B'},\n",
    "{'English': 'B', 'Literature': 'B', 'French': 'C'},\n",
    "{'PE': 'A', 'Music': 'A', 'Food Tech': 'A'}\n",
    "]\n",
    "}\n",
    "\n",
    "for i in my_dict.keys():\n",
    "    result = set(my_dict[i][2].values())\n",
    "\n",
    "print(result)"
   ]
  },
  {
   "cell_type": "code",
   "execution_count": null,
   "id": "8dbc5dde",
   "metadata": {},
   "outputs": [],
   "source": []
  }
 ],
 "metadata": {
  "kernelspec": {
   "display_name": "Python 3 (ipykernel)",
   "language": "python",
   "name": "python3"
  },
  "language_info": {
   "codemirror_mode": {
    "name": "ipython",
    "version": 3
   },
   "file_extension": ".py",
   "mimetype": "text/x-python",
   "name": "python",
   "nbconvert_exporter": "python",
   "pygments_lexer": "ipython3",
   "version": "3.9.13"
  }
 },
 "nbformat": 4,
 "nbformat_minor": 5
}
