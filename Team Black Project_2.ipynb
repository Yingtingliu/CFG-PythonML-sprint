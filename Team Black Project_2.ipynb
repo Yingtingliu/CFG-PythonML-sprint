{
 "cells": [
  {
   "cell_type": "markdown",
   "id": "ae95acdd",
   "metadata": {
    "id": "ae95acdd"
   },
   "source": [
    "# Team Black Project"
   ]
  },
  {
   "cell_type": "markdown",
   "id": "AR_VG7IzZJMO",
   "metadata": {
    "id": "AR_VG7IzZJMO"
   },
   "source": [
    "The data we have used is from Our World in Data and looks at the share of new passenger vehicle registrations that are battery electric vehicles. The data can be found at https://ourworldindata.org/transport.\n",
    "\n"
   ]
  },
  {
   "cell_type": "markdown",
   "id": "IXpw55OdWdxA",
   "metadata": {
    "id": "IXpw55OdWdxA"
   },
   "source": [
    "### Importing the data"
   ]
  },
  {
   "cell_type": "code",
   "execution_count": 1,
   "id": "13184b87",
   "metadata": {
    "executionInfo": {
     "elapsed": 322,
     "status": "ok",
     "timestamp": 1670260444451,
     "user": {
      "displayName": "Rosie Briggs",
      "userId": "10582476481185664883"
     },
     "user_tz": 0
    },
    "id": "13184b87"
   },
   "outputs": [],
   "source": [
    "# import the libraries\n",
    "import pandas as pd\n",
    "import numpy as np\n",
    "import matplotlib.pyplot as plt\n",
    "import seaborn as sns"
   ]
  },
  {
   "cell_type": "code",
   "execution_count": 8,
   "id": "wafVTtvsdMG9",
   "metadata": {
    "colab": {
     "base_uri": "https://localhost:8080/",
     "height": 73
    },
    "executionInfo": {
     "elapsed": 14162,
     "status": "ok",
     "timestamp": 1670260659861,
     "user": {
      "displayName": "Rosie Briggs",
      "userId": "10582476481185664883"
     },
     "user_tz": 0
    },
    "id": "wafVTtvsdMG9",
    "outputId": "c0b0f877-d814-4532-cbfc-1fb477961d1e"
   },
   "outputs": [
    {
     "data": {
      "text/html": [
       "\n",
       "     <input type=\"file\" id=\"files-f72df51f-5570-4058-bfe4-b8fb4e49f4c1\" name=\"files[]\" multiple disabled\n",
       "        style=\"border:none\" />\n",
       "     <output id=\"result-f72df51f-5570-4058-bfe4-b8fb4e49f4c1\">\n",
       "      Upload widget is only available when the cell has been executed in the\n",
       "      current browser session. Please rerun this cell to enable.\n",
       "      </output>\n",
       "      <script>// Copyright 2017 Google LLC\n",
       "//\n",
       "// Licensed under the Apache License, Version 2.0 (the \"License\");\n",
       "// you may not use this file except in compliance with the License.\n",
       "// You may obtain a copy of the License at\n",
       "//\n",
       "//      http://www.apache.org/licenses/LICENSE-2.0\n",
       "//\n",
       "// Unless required by applicable law or agreed to in writing, software\n",
       "// distributed under the License is distributed on an \"AS IS\" BASIS,\n",
       "// WITHOUT WARRANTIES OR CONDITIONS OF ANY KIND, either express or implied.\n",
       "// See the License for the specific language governing permissions and\n",
       "// limitations under the License.\n",
       "\n",
       "/**\n",
       " * @fileoverview Helpers for google.colab Python module.\n",
       " */\n",
       "(function(scope) {\n",
       "function span(text, styleAttributes = {}) {\n",
       "  const element = document.createElement('span');\n",
       "  element.textContent = text;\n",
       "  for (const key of Object.keys(styleAttributes)) {\n",
       "    element.style[key] = styleAttributes[key];\n",
       "  }\n",
       "  return element;\n",
       "}\n",
       "\n",
       "// Max number of bytes which will be uploaded at a time.\n",
       "const MAX_PAYLOAD_SIZE = 100 * 1024;\n",
       "\n",
       "function _uploadFiles(inputId, outputId) {\n",
       "  const steps = uploadFilesStep(inputId, outputId);\n",
       "  const outputElement = document.getElementById(outputId);\n",
       "  // Cache steps on the outputElement to make it available for the next call\n",
       "  // to uploadFilesContinue from Python.\n",
       "  outputElement.steps = steps;\n",
       "\n",
       "  return _uploadFilesContinue(outputId);\n",
       "}\n",
       "\n",
       "// This is roughly an async generator (not supported in the browser yet),\n",
       "// where there are multiple asynchronous steps and the Python side is going\n",
       "// to poll for completion of each step.\n",
       "// This uses a Promise to block the python side on completion of each step,\n",
       "// then passes the result of the previous step as the input to the next step.\n",
       "function _uploadFilesContinue(outputId) {\n",
       "  const outputElement = document.getElementById(outputId);\n",
       "  const steps = outputElement.steps;\n",
       "\n",
       "  const next = steps.next(outputElement.lastPromiseValue);\n",
       "  return Promise.resolve(next.value.promise).then((value) => {\n",
       "    // Cache the last promise value to make it available to the next\n",
       "    // step of the generator.\n",
       "    outputElement.lastPromiseValue = value;\n",
       "    return next.value.response;\n",
       "  });\n",
       "}\n",
       "\n",
       "/**\n",
       " * Generator function which is called between each async step of the upload\n",
       " * process.\n",
       " * @param {string} inputId Element ID of the input file picker element.\n",
       " * @param {string} outputId Element ID of the output display.\n",
       " * @return {!Iterable<!Object>} Iterable of next steps.\n",
       " */\n",
       "function* uploadFilesStep(inputId, outputId) {\n",
       "  const inputElement = document.getElementById(inputId);\n",
       "  inputElement.disabled = false;\n",
       "\n",
       "  const outputElement = document.getElementById(outputId);\n",
       "  outputElement.innerHTML = '';\n",
       "\n",
       "  const pickedPromise = new Promise((resolve) => {\n",
       "    inputElement.addEventListener('change', (e) => {\n",
       "      resolve(e.target.files);\n",
       "    });\n",
       "  });\n",
       "\n",
       "  const cancel = document.createElement('button');\n",
       "  inputElement.parentElement.appendChild(cancel);\n",
       "  cancel.textContent = 'Cancel upload';\n",
       "  const cancelPromise = new Promise((resolve) => {\n",
       "    cancel.onclick = () => {\n",
       "      resolve(null);\n",
       "    };\n",
       "  });\n",
       "\n",
       "  // Wait for the user to pick the files.\n",
       "  const files = yield {\n",
       "    promise: Promise.race([pickedPromise, cancelPromise]),\n",
       "    response: {\n",
       "      action: 'starting',\n",
       "    }\n",
       "  };\n",
       "\n",
       "  cancel.remove();\n",
       "\n",
       "  // Disable the input element since further picks are not allowed.\n",
       "  inputElement.disabled = true;\n",
       "\n",
       "  if (!files) {\n",
       "    return {\n",
       "      response: {\n",
       "        action: 'complete',\n",
       "      }\n",
       "    };\n",
       "  }\n",
       "\n",
       "  for (const file of files) {\n",
       "    const li = document.createElement('li');\n",
       "    li.append(span(file.name, {fontWeight: 'bold'}));\n",
       "    li.append(span(\n",
       "        `(${file.type || 'n/a'}) - ${file.size} bytes, ` +\n",
       "        `last modified: ${\n",
       "            file.lastModifiedDate ? file.lastModifiedDate.toLocaleDateString() :\n",
       "                                    'n/a'} - `));\n",
       "    const percent = span('0% done');\n",
       "    li.appendChild(percent);\n",
       "\n",
       "    outputElement.appendChild(li);\n",
       "\n",
       "    const fileDataPromise = new Promise((resolve) => {\n",
       "      const reader = new FileReader();\n",
       "      reader.onload = (e) => {\n",
       "        resolve(e.target.result);\n",
       "      };\n",
       "      reader.readAsArrayBuffer(file);\n",
       "    });\n",
       "    // Wait for the data to be ready.\n",
       "    let fileData = yield {\n",
       "      promise: fileDataPromise,\n",
       "      response: {\n",
       "        action: 'continue',\n",
       "      }\n",
       "    };\n",
       "\n",
       "    // Use a chunked sending to avoid message size limits. See b/62115660.\n",
       "    let position = 0;\n",
       "    do {\n",
       "      const length = Math.min(fileData.byteLength - position, MAX_PAYLOAD_SIZE);\n",
       "      const chunk = new Uint8Array(fileData, position, length);\n",
       "      position += length;\n",
       "\n",
       "      const base64 = btoa(String.fromCharCode.apply(null, chunk));\n",
       "      yield {\n",
       "        response: {\n",
       "          action: 'append',\n",
       "          file: file.name,\n",
       "          data: base64,\n",
       "        },\n",
       "      };\n",
       "\n",
       "      let percentDone = fileData.byteLength === 0 ?\n",
       "          100 :\n",
       "          Math.round((position / fileData.byteLength) * 100);\n",
       "      percent.textContent = `${percentDone}% done`;\n",
       "\n",
       "    } while (position < fileData.byteLength);\n",
       "  }\n",
       "\n",
       "  // All done.\n",
       "  yield {\n",
       "    response: {\n",
       "      action: 'complete',\n",
       "    }\n",
       "  };\n",
       "}\n",
       "\n",
       "scope.google = scope.google || {};\n",
       "scope.google.colab = scope.google.colab || {};\n",
       "scope.google.colab._files = {\n",
       "  _uploadFiles,\n",
       "  _uploadFilesContinue,\n",
       "};\n",
       "})(self);\n",
       "</script> "
      ],
      "text/plain": [
       "<IPython.core.display.HTML object>"
      ]
     },
     "metadata": {},
     "output_type": "display_data"
    },
    {
     "name": "stdout",
     "output_type": "stream",
     "text": [
      "Saving share-vehicle-electric.csv to share-vehicle-electric.csv\n"
     ]
    }
   ],
   "source": [
    "# import csv to google colab\n",
    "from google.colab import files\n",
    "uploaded = files.upload()"
   ]
  },
  {
   "cell_type": "code",
   "execution_count": 2,
   "id": "80ac9bce",
   "metadata": {},
   "outputs": [
    {
     "data": {
      "text/html": [
       "<div>\n",
       "<style scoped>\n",
       "    .dataframe tbody tr th:only-of-type {\n",
       "        vertical-align: middle;\n",
       "    }\n",
       "\n",
       "    .dataframe tbody tr th {\n",
       "        vertical-align: top;\n",
       "    }\n",
       "\n",
       "    .dataframe thead th {\n",
       "        text-align: right;\n",
       "    }\n",
       "</style>\n",
       "<table border=\"1\" class=\"dataframe\">\n",
       "  <thead>\n",
       "    <tr style=\"text-align: right;\">\n",
       "      <th></th>\n",
       "      <th>Entity</th>\n",
       "      <th>Code</th>\n",
       "      <th>Year</th>\n",
       "      <th>battery_electric_share</th>\n",
       "    </tr>\n",
       "  </thead>\n",
       "  <tbody>\n",
       "    <tr>\n",
       "      <th>0</th>\n",
       "      <td>Austria</td>\n",
       "      <td>AUT</td>\n",
       "      <td>2001</td>\n",
       "      <td>0.000000</td>\n",
       "    </tr>\n",
       "    <tr>\n",
       "      <th>1</th>\n",
       "      <td>Austria</td>\n",
       "      <td>AUT</td>\n",
       "      <td>2002</td>\n",
       "      <td>0.000358</td>\n",
       "    </tr>\n",
       "    <tr>\n",
       "      <th>2</th>\n",
       "      <td>Austria</td>\n",
       "      <td>AUT</td>\n",
       "      <td>2003</td>\n",
       "      <td>0.000000</td>\n",
       "    </tr>\n",
       "    <tr>\n",
       "      <th>3</th>\n",
       "      <td>Austria</td>\n",
       "      <td>AUT</td>\n",
       "      <td>2004</td>\n",
       "      <td>0.000000</td>\n",
       "    </tr>\n",
       "    <tr>\n",
       "      <th>4</th>\n",
       "      <td>Austria</td>\n",
       "      <td>AUT</td>\n",
       "      <td>2005</td>\n",
       "      <td>0.000000</td>\n",
       "    </tr>\n",
       "  </tbody>\n",
       "</table>\n",
       "</div>"
      ],
      "text/plain": [
       "    Entity Code  Year  battery_electric_share\n",
       "0  Austria  AUT  2001                0.000000\n",
       "1  Austria  AUT  2002                0.000358\n",
       "2  Austria  AUT  2003                0.000000\n",
       "3  Austria  AUT  2004                0.000000\n",
       "4  Austria  AUT  2005                0.000000"
      ]
     },
     "execution_count": 2,
     "metadata": {},
     "output_type": "execute_result"
    }
   ],
   "source": [
    "data = pd.read_csv('data/share-vehicle-electric (4).csv')\n",
    "data.head()"
   ]
  },
  {
   "cell_type": "code",
   "execution_count": 9,
   "id": "TlIQDvIUaFGb",
   "metadata": {
    "colab": {
     "base_uri": "https://localhost:8080/",
     "height": 206
    },
    "executionInfo": {
     "elapsed": 787,
     "status": "ok",
     "timestamp": 1670260748943,
     "user": {
      "displayName": "Rosie Briggs",
      "userId": "10582476481185664883"
     },
     "user_tz": 0
    },
    "id": "TlIQDvIUaFGb",
    "outputId": "2d687bb4-800d-48a6-d978-c99d4e5c7c71"
   },
   "outputs": [
    {
     "data": {
      "text/html": [
       "\n",
       "  <div id=\"df-eb4badb6-73d1-4869-adee-34711a812056\">\n",
       "    <div class=\"colab-df-container\">\n",
       "      <div>\n",
       "<style scoped>\n",
       "    .dataframe tbody tr th:only-of-type {\n",
       "        vertical-align: middle;\n",
       "    }\n",
       "\n",
       "    .dataframe tbody tr th {\n",
       "        vertical-align: top;\n",
       "    }\n",
       "\n",
       "    .dataframe thead th {\n",
       "        text-align: right;\n",
       "    }\n",
       "</style>\n",
       "<table border=\"1\" class=\"dataframe\">\n",
       "  <thead>\n",
       "    <tr style=\"text-align: right;\">\n",
       "      <th></th>\n",
       "      <th>Entity</th>\n",
       "      <th>Code</th>\n",
       "      <th>Year</th>\n",
       "      <th>battery_electric_share</th>\n",
       "    </tr>\n",
       "  </thead>\n",
       "  <tbody>\n",
       "    <tr>\n",
       "      <th>0</th>\n",
       "      <td>Austria</td>\n",
       "      <td>AUT</td>\n",
       "      <td>2001</td>\n",
       "      <td>0.000000</td>\n",
       "    </tr>\n",
       "    <tr>\n",
       "      <th>1</th>\n",
       "      <td>Austria</td>\n",
       "      <td>AUT</td>\n",
       "      <td>2002</td>\n",
       "      <td>0.000358</td>\n",
       "    </tr>\n",
       "    <tr>\n",
       "      <th>2</th>\n",
       "      <td>Austria</td>\n",
       "      <td>AUT</td>\n",
       "      <td>2003</td>\n",
       "      <td>0.000000</td>\n",
       "    </tr>\n",
       "    <tr>\n",
       "      <th>3</th>\n",
       "      <td>Austria</td>\n",
       "      <td>AUT</td>\n",
       "      <td>2004</td>\n",
       "      <td>0.000000</td>\n",
       "    </tr>\n",
       "    <tr>\n",
       "      <th>4</th>\n",
       "      <td>Austria</td>\n",
       "      <td>AUT</td>\n",
       "      <td>2005</td>\n",
       "      <td>0.000000</td>\n",
       "    </tr>\n",
       "  </tbody>\n",
       "</table>\n",
       "</div>\n",
       "      <button class=\"colab-df-convert\" onclick=\"convertToInteractive('df-eb4badb6-73d1-4869-adee-34711a812056')\"\n",
       "              title=\"Convert this dataframe to an interactive table.\"\n",
       "              style=\"display:none;\">\n",
       "        \n",
       "  <svg xmlns=\"http://www.w3.org/2000/svg\" height=\"24px\"viewBox=\"0 0 24 24\"\n",
       "       width=\"24px\">\n",
       "    <path d=\"M0 0h24v24H0V0z\" fill=\"none\"/>\n",
       "    <path d=\"M18.56 5.44l.94 2.06.94-2.06 2.06-.94-2.06-.94-.94-2.06-.94 2.06-2.06.94zm-11 1L8.5 8.5l.94-2.06 2.06-.94-2.06-.94L8.5 2.5l-.94 2.06-2.06.94zm10 10l.94 2.06.94-2.06 2.06-.94-2.06-.94-.94-2.06-.94 2.06-2.06.94z\"/><path d=\"M17.41 7.96l-1.37-1.37c-.4-.4-.92-.59-1.43-.59-.52 0-1.04.2-1.43.59L10.3 9.45l-7.72 7.72c-.78.78-.78 2.05 0 2.83L4 21.41c.39.39.9.59 1.41.59.51 0 1.02-.2 1.41-.59l7.78-7.78 2.81-2.81c.8-.78.8-2.07 0-2.86zM5.41 20L4 18.59l7.72-7.72 1.47 1.35L5.41 20z\"/>\n",
       "  </svg>\n",
       "      </button>\n",
       "      \n",
       "  <style>\n",
       "    .colab-df-container {\n",
       "      display:flex;\n",
       "      flex-wrap:wrap;\n",
       "      gap: 12px;\n",
       "    }\n",
       "\n",
       "    .colab-df-convert {\n",
       "      background-color: #E8F0FE;\n",
       "      border: none;\n",
       "      border-radius: 50%;\n",
       "      cursor: pointer;\n",
       "      display: none;\n",
       "      fill: #1967D2;\n",
       "      height: 32px;\n",
       "      padding: 0 0 0 0;\n",
       "      width: 32px;\n",
       "    }\n",
       "\n",
       "    .colab-df-convert:hover {\n",
       "      background-color: #E2EBFA;\n",
       "      box-shadow: 0px 1px 2px rgba(60, 64, 67, 0.3), 0px 1px 3px 1px rgba(60, 64, 67, 0.15);\n",
       "      fill: #174EA6;\n",
       "    }\n",
       "\n",
       "    [theme=dark] .colab-df-convert {\n",
       "      background-color: #3B4455;\n",
       "      fill: #D2E3FC;\n",
       "    }\n",
       "\n",
       "    [theme=dark] .colab-df-convert:hover {\n",
       "      background-color: #434B5C;\n",
       "      box-shadow: 0px 1px 3px 1px rgba(0, 0, 0, 0.15);\n",
       "      filter: drop-shadow(0px 1px 2px rgba(0, 0, 0, 0.3));\n",
       "      fill: #FFFFFF;\n",
       "    }\n",
       "  </style>\n",
       "\n",
       "      <script>\n",
       "        const buttonEl =\n",
       "          document.querySelector('#df-eb4badb6-73d1-4869-adee-34711a812056 button.colab-df-convert');\n",
       "        buttonEl.style.display =\n",
       "          google.colab.kernel.accessAllowed ? 'block' : 'none';\n",
       "\n",
       "        async function convertToInteractive(key) {\n",
       "          const element = document.querySelector('#df-eb4badb6-73d1-4869-adee-34711a812056');\n",
       "          const dataTable =\n",
       "            await google.colab.kernel.invokeFunction('convertToInteractive',\n",
       "                                                     [key], {});\n",
       "          if (!dataTable) return;\n",
       "\n",
       "          const docLinkHtml = 'Like what you see? Visit the ' +\n",
       "            '<a target=\"_blank\" href=https://colab.research.google.com/notebooks/data_table.ipynb>data table notebook</a>'\n",
       "            + ' to learn more about interactive tables.';\n",
       "          element.innerHTML = '';\n",
       "          dataTable['output_type'] = 'display_data';\n",
       "          await google.colab.output.renderOutput(dataTable, element);\n",
       "          const docLink = document.createElement('div');\n",
       "          docLink.innerHTML = docLinkHtml;\n",
       "          element.appendChild(docLink);\n",
       "        }\n",
       "      </script>\n",
       "    </div>\n",
       "  </div>\n",
       "  "
      ],
      "text/plain": [
       "    Entity Code  Year  battery_electric_share\n",
       "0  Austria  AUT  2001                0.000000\n",
       "1  Austria  AUT  2002                0.000358\n",
       "2  Austria  AUT  2003                0.000000\n",
       "3  Austria  AUT  2004                0.000000\n",
       "4  Austria  AUT  2005                0.000000"
      ]
     },
     "execution_count": 9,
     "metadata": {},
     "output_type": "execute_result"
    }
   ],
   "source": [
    "#import the data\n",
    "import io\n",
    "data = pd.read_csv(io.BytesIO(uploaded['share-vehicle-electric.csv']))\n",
    "data.head()\n",
    "\n",
    "#data = pd.read_csv('share-vehicle-electric.csv')\n",
    "#data.head()"
   ]
  },
  {
   "cell_type": "markdown",
   "id": "4KNDQXKDUGVu",
   "metadata": {
    "id": "4KNDQXKDUGVu"
   },
   "source": [
    "### Summary of the data"
   ]
  },
  {
   "cell_type": "code",
   "execution_count": 3,
   "id": "4wurJepbTWpA",
   "metadata": {
    "colab": {
     "base_uri": "https://localhost:8080/"
    },
    "executionInfo": {
     "elapsed": 234,
     "status": "ok",
     "timestamp": 1670260822329,
     "user": {
      "displayName": "Rosie Briggs",
      "userId": "10582476481185664883"
     },
     "user_tz": 0
    },
    "id": "4wurJepbTWpA",
    "outputId": "3c73a730-80ea-4771-a270-1d8f0b60b76e"
   },
   "outputs": [
    {
     "name": "stdout",
     "output_type": "stream",
     "text": [
      "<class 'pandas.core.frame.DataFrame'>\n",
      "RangeIndex: 309 entries, 0 to 308\n",
      "Data columns (total 4 columns):\n",
      " #   Column                  Non-Null Count  Dtype  \n",
      "---  ------                  --------------  -----  \n",
      " 0   Entity                  309 non-null    object \n",
      " 1   Code                    307 non-null    object \n",
      " 2   Year                    309 non-null    int64  \n",
      " 3   battery_electric_share  309 non-null    float64\n",
      "dtypes: float64(1), int64(1), object(2)\n",
      "memory usage: 9.8+ KB\n"
     ]
    }
   ],
   "source": [
    "# summerised information\n",
    "data.info()"
   ]
  },
  {
   "cell_type": "code",
   "execution_count": 4,
   "id": "l0OZuwWtTkeN",
   "metadata": {
    "colab": {
     "base_uri": "https://localhost:8080/",
     "height": 300
    },
    "executionInfo": {
     "elapsed": 231,
     "status": "ok",
     "timestamp": 1670260873245,
     "user": {
      "displayName": "Rosie Briggs",
      "userId": "10582476481185664883"
     },
     "user_tz": 0
    },
    "id": "l0OZuwWtTkeN",
    "outputId": "9570bc06-3f88-48c5-9942-7f54a6b6962d"
   },
   "outputs": [
    {
     "data": {
      "text/html": [
       "<div>\n",
       "<style scoped>\n",
       "    .dataframe tbody tr th:only-of-type {\n",
       "        vertical-align: middle;\n",
       "    }\n",
       "\n",
       "    .dataframe tbody tr th {\n",
       "        vertical-align: top;\n",
       "    }\n",
       "\n",
       "    .dataframe thead th {\n",
       "        text-align: right;\n",
       "    }\n",
       "</style>\n",
       "<table border=\"1\" class=\"dataframe\">\n",
       "  <thead>\n",
       "    <tr style=\"text-align: right;\">\n",
       "      <th></th>\n",
       "      <th>Year</th>\n",
       "      <th>battery_electric_share</th>\n",
       "    </tr>\n",
       "  </thead>\n",
       "  <tbody>\n",
       "    <tr>\n",
       "      <th>count</th>\n",
       "      <td>309.000000</td>\n",
       "      <td>309.000000</td>\n",
       "    </tr>\n",
       "    <tr>\n",
       "      <th>mean</th>\n",
       "      <td>2010.501618</td>\n",
       "      <td>0.873659</td>\n",
       "    </tr>\n",
       "    <tr>\n",
       "      <th>std</th>\n",
       "      <td>5.573956</td>\n",
       "      <td>3.626734</td>\n",
       "    </tr>\n",
       "    <tr>\n",
       "      <th>min</th>\n",
       "      <td>2001.000000</td>\n",
       "      <td>0.000000</td>\n",
       "    </tr>\n",
       "    <tr>\n",
       "      <th>25%</th>\n",
       "      <td>2006.000000</td>\n",
       "      <td>0.000290</td>\n",
       "    </tr>\n",
       "    <tr>\n",
       "      <th>50%</th>\n",
       "      <td>2011.000000</td>\n",
       "      <td>0.023778</td>\n",
       "    </tr>\n",
       "    <tr>\n",
       "      <th>75%</th>\n",
       "      <td>2015.000000</td>\n",
       "      <td>0.387658</td>\n",
       "    </tr>\n",
       "    <tr>\n",
       "      <th>max</th>\n",
       "      <td>2020.000000</td>\n",
       "      <td>42.383059</td>\n",
       "    </tr>\n",
       "  </tbody>\n",
       "</table>\n",
       "</div>"
      ],
      "text/plain": [
       "              Year  battery_electric_share\n",
       "count   309.000000              309.000000\n",
       "mean   2010.501618                0.873659\n",
       "std       5.573956                3.626734\n",
       "min    2001.000000                0.000000\n",
       "25%    2006.000000                0.000290\n",
       "50%    2011.000000                0.023778\n",
       "75%    2015.000000                0.387658\n",
       "max    2020.000000               42.383059"
      ]
     },
     "execution_count": 4,
     "metadata": {},
     "output_type": "execute_result"
    }
   ],
   "source": [
    "# summary statistics of integer/float data\n",
    "data.describe()"
   ]
  },
  {
   "cell_type": "code",
   "execution_count": 5,
   "id": "SBD46YxWTxwv",
   "metadata": {
    "colab": {
     "base_uri": "https://localhost:8080/"
    },
    "executionInfo": {
     "elapsed": 8,
     "status": "ok",
     "timestamp": 1670260925709,
     "user": {
      "displayName": "Rosie Briggs",
      "userId": "10582476481185664883"
     },
     "user_tz": 0
    },
    "id": "SBD46YxWTxwv",
    "outputId": "9437f87e-ebc1-4dbb-acfc-1e8d6d5b3abb"
   },
   "outputs": [
    {
     "name": "stdout",
     "output_type": "stream",
     "text": [
      "Entity                    0\n",
      "Code                      2\n",
      "Year                      0\n",
      "battery_electric_share    0\n",
      "dtype: int64\n"
     ]
    }
   ],
   "source": [
    "# calculate how many missing values\n",
    "print(data.isnull().sum())"
   ]
  },
  {
   "cell_type": "markdown",
   "id": "A4isiQIBW0nK",
   "metadata": {
    "id": "A4isiQIBW0nK"
   },
   "source": [
    "### Visualising the data"
   ]
  },
  {
   "cell_type": "code",
   "execution_count": 6,
   "id": "4DZQl2uJIgpS",
   "metadata": {
    "colab": {
     "base_uri": "https://localhost:8080/",
     "height": 746
    },
    "executionInfo": {
     "elapsed": 2526,
     "status": "ok",
     "timestamp": 1670260769827,
     "user": {
      "displayName": "Rosie Briggs",
      "userId": "10582476481185664883"
     },
     "user_tz": 0
    },
    "id": "4DZQl2uJIgpS",
    "outputId": "e1d0e5fc-e13d-46aa-b21f-fc1fc976ed06"
   },
   "outputs": [
    {
     "data": {
      "text/plain": [
       "<seaborn.axisgrid.FacetGrid at 0x1d1301bbb80>"
      ]
     },
     "execution_count": 6,
     "metadata": {},
     "output_type": "execute_result"
    },
    {
     "data": {
      "image/png": "[encoded data removed]",
      "text/plain": [
       "<Figure size 1081.25x1000 with 1 Axes>"
      ]
     },
     "metadata": {},
     "output_type": "display_data"
    }
   ],
   "source": [
    "# plot the data\n",
    "g = sns.lmplot(\n",
    "    data=data,\n",
    "    x=\"Year\", y=\"battery_electric_share\", hue=\"Code\",\n",
    "    height=10\n",
    ")\n",
    "\n",
    "g.set_axis_labels(\"Year\", \"Electric share\")"
   ]
  },
  {
   "cell_type": "code",
   "execution_count": 7,
   "id": "iAzXHqMCJ6Fu",
   "metadata": {
    "colab": {
     "base_uri": "https://localhost:8080/"
    },
    "executionInfo": {
     "elapsed": 3,
     "status": "ok",
     "timestamp": 1670191250024,
     "user": {
      "displayName": "Ruth Hey",
      "userId": "15751083232311899695"
     },
     "user_tz": 0
    },
    "id": "iAzXHqMCJ6Fu",
    "outputId": "d0e66448-7053-46d9-90a4-f8bcb732a182"
   },
   "outputs": [
    {
     "data": {
      "text/plain": [
       "Year\n",
       "2001    0.002670\n",
       "2002    0.001603\n",
       "2003    0.001014\n",
       "2004    0.001830\n",
       "2005    0.001750\n",
       "2006    0.001069\n",
       "2007    0.001297\n",
       "2008    0.001454\n",
       "2009    0.007472\n",
       "2010    0.012039\n",
       "2011    0.086408\n",
       "2012    0.184212\n",
       "2013    0.886629\n",
       "2014    1.056311\n",
       "2015    1.440816\n",
       "2016    1.282073\n",
       "2017    1.730872\n",
       "2018    2.877609\n",
       "2019    4.744333\n",
       "2020    6.212288\n",
       "Name: battery_electric_share, dtype: float64"
      ]
     },
     "execution_count": 7,
     "metadata": {},
     "output_type": "execute_result"
    }
   ],
   "source": [
    "mean_share = data.groupby('Year').battery_electric_share.mean()\n",
    "mean_share"
   ]
  },
  {
   "cell_type": "code",
   "execution_count": 22,
   "id": "TtykdLSVKCHG",
   "metadata": {
    "colab": {
     "base_uri": "https://localhost:8080/",
     "height": 296
    },
    "executionInfo": {
     "elapsed": 203,
     "status": "ok",
     "timestamp": 1670191263789,
     "user": {
      "displayName": "Ruth Hey",
      "userId": "15751083232311899695"
     },
     "user_tz": 0
    },
    "id": "TtykdLSVKCHG",
    "outputId": "88f471e5-984d-4326-f8e0-885cbdbe5e16"
   },
   "outputs": [
    {
     "data": {
      "text/plain": [
       "<AxesSubplot:xlabel='Y Test (True values from test data)', ylabel='Predicted Y'>"
      ]
     },
     "execution_count": 22,
     "metadata": {},
     "output_type": "execute_result"
    }
   ],
   "source": [
    "sns.lineplot(data = mean_share)"
   ]
  },
  {
   "cell_type": "markdown",
   "id": "SOBQkjVDcihe",
   "metadata": {
    "id": "SOBQkjVDcihe"
   },
   "source": [
    "## Training and Testing Data"
   ]
  },
  {
   "cell_type": "code",
   "execution_count": 9,
   "id": "d6adsVc8a5wV",
   "metadata": {
    "colab": {
     "base_uri": "https://localhost:8080/"
    },
    "executionInfo": {
     "elapsed": 286,
     "status": "ok",
     "timestamp": 1670262798511,
     "user": {
      "displayName": "Rosie Briggs",
      "userId": "10582476481185664883"
     },
     "user_tz": 0
    },
    "id": "d6adsVc8a5wV",
    "outputId": "263f4dca-495f-419e-a70c-778263cea0d2"
   },
   "outputs": [
    {
     "data": {
      "text/plain": [
       "Index(['Entity', 'Code', 'Year', 'battery_electric_share'], dtype='object')"
      ]
     },
     "execution_count": 9,
     "metadata": {},
     "output_type": "execute_result"
    }
   ],
   "source": [
    "data.columns"
   ]
  },
  {
   "cell_type": "code",
   "execution_count": 10,
   "id": "SfQp4IW6a8ne",
   "metadata": {
    "executionInfo": {
     "elapsed": 431,
     "status": "ok",
     "timestamp": 1670262911789,
     "user": {
      "displayName": "Rosie Briggs",
      "userId": "10582476481185664883"
     },
     "user_tz": 0
    },
    "id": "SfQp4IW6a8ne"
   },
   "outputs": [],
   "source": [
    "y = data['battery_electric_share']\n",
    "X = data[['Year']]"
   ]
  },
  {
   "cell_type": "code",
   "execution_count": 11,
   "id": "nXC9A5IpbYD0",
   "metadata": {
    "executionInfo": {
     "elapsed": 667,
     "status": "ok",
     "timestamp": 1670262918003,
     "user": {
      "displayName": "Rosie Briggs",
      "userId": "10582476481185664883"
     },
     "user_tz": 0
    },
    "id": "nXC9A5IpbYD0"
   },
   "outputs": [],
   "source": [
    "from sklearn.model_selection import train_test_split"
   ]
  },
  {
   "cell_type": "code",
   "execution_count": 12,
   "id": "LAjizYWfbco2",
   "metadata": {
    "executionInfo": {
     "elapsed": 9,
     "status": "ok",
     "timestamp": 1670262936408,
     "user": {
      "displayName": "Rosie Briggs",
      "userId": "10582476481185664883"
     },
     "user_tz": 0
    },
    "id": "LAjizYWfbco2"
   },
   "outputs": [],
   "source": [
    "# test_size always be below 0.5 to get the best results\n",
    "X_train, X_test, y_train, y_test = train_test_split(X, y, test_size=0.3, random_state=101)"
   ]
  },
  {
   "cell_type": "markdown",
   "id": "nsr9Cdx-ctBq",
   "metadata": {
    "id": "nsr9Cdx-ctBq"
   },
   "source": [
    "### Training the model"
   ]
  },
  {
   "cell_type": "code",
   "execution_count": 13,
   "id": "AhFFyETWbn2T",
   "metadata": {
    "executionInfo": {
     "elapsed": 243,
     "status": "ok",
     "timestamp": 1670262982391,
     "user": {
      "displayName": "Rosie Briggs",
      "userId": "10582476481185664883"
     },
     "user_tz": 0
    },
    "id": "AhFFyETWbn2T"
   },
   "outputs": [],
   "source": [
    "from sklearn.linear_model import LinearRegression"
   ]
  },
  {
   "cell_type": "code",
   "execution_count": 14,
   "id": "_w9OPBKMbqhd",
   "metadata": {
    "executionInfo": {
     "elapsed": 3,
     "status": "ok",
     "timestamp": 1670262993175,
     "user": {
      "displayName": "Rosie Briggs",
      "userId": "10582476481185664883"
     },
     "user_tz": 0
    },
    "id": "_w9OPBKMbqhd"
   },
   "outputs": [],
   "source": [
    "lm = LinearRegression()"
   ]
  },
  {
   "cell_type": "code",
   "execution_count": 15,
   "id": "SYXusJsHbrsz",
   "metadata": {
    "colab": {
     "base_uri": "https://localhost:8080/"
    },
    "executionInfo": {
     "elapsed": 412,
     "status": "ok",
     "timestamp": 1670263003771,
     "user": {
      "displayName": "Rosie Briggs",
      "userId": "10582476481185664883"
     },
     "user_tz": 0
    },
    "id": "SYXusJsHbrsz",
    "outputId": "09d40bea-a363-4d14-e4af-d8a7ecdc40d9"
   },
   "outputs": [
    {
     "data": {
      "text/plain": [
       "LinearRegression()"
      ]
     },
     "execution_count": 15,
     "metadata": {},
     "output_type": "execute_result"
    }
   ],
   "source": [
    "lm.fit(X_train,y_train)"
   ]
  },
  {
   "cell_type": "code",
   "execution_count": 16,
   "id": "1msFYe2MbuPO",
   "metadata": {
    "colab": {
     "base_uri": "https://localhost:8080/"
    },
    "executionInfo": {
     "elapsed": 264,
     "status": "ok",
     "timestamp": 1670263017052,
     "user": {
      "displayName": "Rosie Briggs",
      "userId": "10582476481185664883"
     },
     "user_tz": 0
    },
    "id": "1msFYe2MbuPO",
    "outputId": "4bcf16b6-1241-4047-b6f7-b6c92aadf5dd"
   },
   "outputs": [
    {
     "name": "stdout",
     "output_type": "stream",
     "text": [
      "Coefficients: \n",
      " [0.19783422]\n"
     ]
    }
   ],
   "source": [
    "print('Coefficients: \\n', lm.coef_)"
   ]
  },
  {
   "cell_type": "markdown",
   "id": "fuMP-sQBc4VJ",
   "metadata": {
    "id": "fuMP-sQBc4VJ"
   },
   "source": [
    "### Predicting test data"
   ]
  },
  {
   "cell_type": "code",
   "execution_count": 17,
   "id": "xAYNJX5zbyGD",
   "metadata": {
    "executionInfo": {
     "elapsed": 6,
     "status": "ok",
     "timestamp": 1670263028689,
     "user": {
      "displayName": "Rosie Briggs",
      "userId": "10582476481185664883"
     },
     "user_tz": 0
    },
    "id": "xAYNJX5zbyGD"
   },
   "outputs": [],
   "source": [
    "predictions = lm.predict( X_test)"
   ]
  },
  {
   "cell_type": "code",
   "execution_count": 18,
   "id": "-d8Jasnbb04p",
   "metadata": {
    "executionInfo": {
     "elapsed": 289,
     "status": "ok",
     "timestamp": 1670263049278,
     "user": {
      "displayName": "Rosie Briggs",
      "userId": "10582476481185664883"
     },
     "user_tz": 0
    },
    "id": "-d8Jasnbb04p"
   },
   "outputs": [],
   "source": [
    "data_compare = pd.DataFrame(data= {'actual values':y_test, 'predicted values': predictions})"
   ]
  },
  {
   "cell_type": "code",
   "execution_count": 19,
   "id": "_WnXc8srb62z",
   "metadata": {
    "colab": {
     "base_uri": "https://localhost:8080/",
     "height": 424
    },
    "executionInfo": {
     "elapsed": 232,
     "status": "ok",
     "timestamp": 1670263075794,
     "user": {
      "displayName": "Rosie Briggs",
      "userId": "10582476481185664883"
     },
     "user_tz": 0
    },
    "id": "_WnXc8srb62z",
    "outputId": "03c03532-0cb6-4d8b-ca74-042dda1d4d7a"
   },
   "outputs": [
    {
     "data": {
      "text/html": [
       "<div>\n",
       "<style scoped>\n",
       "    .dataframe tbody tr th:only-of-type {\n",
       "        vertical-align: middle;\n",
       "    }\n",
       "\n",
       "    .dataframe tbody tr th {\n",
       "        vertical-align: top;\n",
       "    }\n",
       "\n",
       "    .dataframe thead th {\n",
       "        text-align: right;\n",
       "    }\n",
       "</style>\n",
       "<table border=\"1\" class=\"dataframe\">\n",
       "  <thead>\n",
       "    <tr style=\"text-align: right;\">\n",
       "      <th></th>\n",
       "      <th>actual values</th>\n",
       "      <th>predicted values</th>\n",
       "      <th>difference</th>\n",
       "    </tr>\n",
       "  </thead>\n",
       "  <tbody>\n",
       "    <tr>\n",
       "      <th>273</th>\n",
       "      <td>0.776224</td>\n",
       "      <td>2.044064</td>\n",
       "      <td>-1.267839</td>\n",
       "    </tr>\n",
       "    <tr>\n",
       "      <th>8</th>\n",
       "      <td>0.012217</td>\n",
       "      <td>0.659224</td>\n",
       "      <td>-0.647007</td>\n",
       "    </tr>\n",
       "    <tr>\n",
       "      <th>293</th>\n",
       "      <td>0.000000</td>\n",
       "      <td>-0.329947</td>\n",
       "      <td>0.329947</td>\n",
       "    </tr>\n",
       "    <tr>\n",
       "      <th>130</th>\n",
       "      <td>0.042214</td>\n",
       "      <td>1.846229</td>\n",
       "      <td>-1.804016</td>\n",
       "    </tr>\n",
       "    <tr>\n",
       "      <th>204</th>\n",
       "      <td>0.157758</td>\n",
       "      <td>1.054893</td>\n",
       "      <td>-0.897134</td>\n",
       "    </tr>\n",
       "    <tr>\n",
       "      <th>...</th>\n",
       "      <td>...</td>\n",
       "      <td>...</td>\n",
       "      <td>...</td>\n",
       "    </tr>\n",
       "    <tr>\n",
       "      <th>55</th>\n",
       "      <td>0.707851</td>\n",
       "      <td>2.439732</td>\n",
       "      <td>-1.731881</td>\n",
       "    </tr>\n",
       "    <tr>\n",
       "      <th>247</th>\n",
       "      <td>0.000105</td>\n",
       "      <td>0.659224</td>\n",
       "      <td>-0.659119</td>\n",
       "    </tr>\n",
       "    <tr>\n",
       "      <th>85</th>\n",
       "      <td>0.000195</td>\n",
       "      <td>0.461390</td>\n",
       "      <td>-0.461195</td>\n",
       "    </tr>\n",
       "    <tr>\n",
       "      <th>234</th>\n",
       "      <td>0.347333</td>\n",
       "      <td>1.846229</td>\n",
       "      <td>-1.498896</td>\n",
       "    </tr>\n",
       "    <tr>\n",
       "      <th>31</th>\n",
       "      <td>0.154507</td>\n",
       "      <td>1.450561</td>\n",
       "      <td>-1.296054</td>\n",
       "    </tr>\n",
       "  </tbody>\n",
       "</table>\n",
       "<p>93 rows × 3 columns</p>\n",
       "</div>"
      ],
      "text/plain": [
       "     actual values  predicted values  difference\n",
       "273       0.776224          2.044064   -1.267839\n",
       "8         0.012217          0.659224   -0.647007\n",
       "293       0.000000         -0.329947    0.329947\n",
       "130       0.042214          1.846229   -1.804016\n",
       "204       0.157758          1.054893   -0.897134\n",
       "..             ...               ...         ...\n",
       "55        0.707851          2.439732   -1.731881\n",
       "247       0.000105          0.659224   -0.659119\n",
       "85        0.000195          0.461390   -0.461195\n",
       "234       0.347333          1.846229   -1.498896\n",
       "31        0.154507          1.450561   -1.296054\n",
       "\n",
       "[93 rows x 3 columns]"
      ]
     },
     "execution_count": 19,
     "metadata": {},
     "output_type": "execute_result"
    }
   ],
   "source": [
    "data_compare['difference'] = data_compare['actual values'] - data_compare['predicted values']\n",
    "data_compare"
   ]
  },
  {
   "cell_type": "code",
   "execution_count": 21,
   "id": "2hjoQiv-cIUv",
   "metadata": {
    "colab": {
     "base_uri": "https://localhost:8080/",
     "height": 296
    },
    "executionInfo": {
     "elapsed": 580,
     "status": "ok",
     "timestamp": 1670263115579,
     "user": {
      "displayName": "Rosie Briggs",
      "userId": "10582476481185664883"
     },
     "user_tz": 0
    },
    "id": "2hjoQiv-cIUv",
    "outputId": "90627355-0189-44d4-c58c-e6ff535dbdd7"
   },
   "outputs": [
    {
     "data": {
      "text/plain": [
       "Text(0, 0.5, 'Predicted Y')"
      ]
     },
     "execution_count": 21,
     "metadata": {},
     "output_type": "execute_result"
    }
   ],
   "source": [
    "plt.scatter(y_test,predictions, color='purple')\n",
    "plt.xlabel('Y Test (True values from test data)')\n",
    "plt.ylabel('Predicted Y')"
   ]
  },
  {
   "cell_type": "code",
   "execution_count": 29,
   "id": "451b1b11",
   "metadata": {},
   "outputs": [],
   "source": [
    "slope, intercept, r_value, p_value, std_err = linregress(data[\"Year\"], data[\"battery_electric_share\"])"
   ]
  },
  {
   "cell_type": "code",
   "execution_count": 28,
   "id": "39514204",
   "metadata": {},
   "outputs": [],
   "source": [
    "from scipy.stats import linregress"
   ]
  },
  {
   "cell_type": "code",
   "execution_count": 30,
   "id": "f29c2c59",
   "metadata": {},
   "outputs": [
    {
     "data": {
      "text/plain": [
       "<AxesSubplot:xlabel='Year', ylabel='battery_electric_share'>"
      ]
     },
     "execution_count": 30,
     "metadata": {},
     "output_type": "execute_result"
    }
   ],
   "source": [
    "f, ax = plt.subplots()\n",
    "sns.scatterplot(x=\"Year\", y=\"battery_electric_share\", ax=ax, data=data)"
   ]
  },
  {
   "cell_type": "code",
   "execution_count": 31,
   "id": "aea72bb9",
   "metadata": {},
   "outputs": [
    {
     "data": {
      "text/plain": [
       "[<matplotlib.lines.Line2D at 0x1d131a8d8e0>]"
      ]
     },
     "execution_count": 31,
     "metadata": {},
     "output_type": "execute_result"
    }
   ],
   "source": [
    "ax.plot(range(2009, 2030), [i*slope + intercept for i in range(2009, 2030)], color=\"red\")"
   ]
  },
  {
   "cell_type": "code",
   "execution_count": 34,
   "id": "f9116be8",
   "metadata": {},
   "outputs": [
    {
     "data": {
      "text/plain": [
       "[Text(24.000000000000007, 0.5, 'Batter electric')]"
      ]
     },
     "execution_count": 34,
     "metadata": {},
     "output_type": "execute_result"
    }
   ],
   "source": [
    "ax.set_title(\"Electric share (simple predicion)\")\n",
    "ax.set(ylabel=\"Batter electric\")\n",
    "# f.savefig(\"test11.png\", bbox_inches=\"tight\")"
   ]
  },
  {
   "cell_type": "code",
   "execution_count": 35,
   "id": "4ed65fc8",
   "metadata": {},
   "outputs": [
    {
     "data": {
      "image/png": "[encoded data removed]",
      "text/plain": [
       "<Figure size 640x480 with 1 Axes>"
      ]
     },
     "execution_count": 35,
     "metadata": {},
     "output_type": "execute_result"
    }
   ],
   "source": [
    "f"
   ]
  },
  {
   "cell_type": "code",
   "execution_count": 37,
   "id": "4062af6b",
   "metadata": {},
   "outputs": [
    {
     "name": "stdout",
     "output_type": "stream",
     "text": [
      "-374.2098109318517 71.52533698549387\n"
     ]
    }
   ],
   "source": [
    "result = linregress(data[\"Year\"], data[\"battery_electric_share\"])\n",
    "print(result.intercept, result.intercept_stderr)"
   ]
  },
  {
   "cell_type": "code",
   "execution_count": 40,
   "id": "bf171d09",
   "metadata": {},
   "outputs": [
    {
     "name": "stdout",
     "output_type": "stream",
     "text": [
      "3.20538421504142\n"
     ]
    }
   ],
   "source": [
    "predict_y = intercept + slope * 2023\n",
    "print(predict_y)"
   ]
  }
 ],
 "metadata": {
  "colab": {
   "provenance": []
  },
  "kernelspec": {
   "display_name": "Python 3 (ipykernel)",
   "language": "python",
   "name": "python3"
  },
  "language_info": {
   "codemirror_mode": {
    "name": "ipython",
    "version": 3
   },
   "file_extension": ".py",
   "mimetype": "text/x-python",
   "name": "python",
   "nbconvert_exporter": "python",
   "pygments_lexer": "ipython3",
   "version": "3.9.13"
  }
 },
 "nbformat": 4,
 "nbformat_minor": 5
}
